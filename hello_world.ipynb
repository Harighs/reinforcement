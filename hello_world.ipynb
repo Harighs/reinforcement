{
 "cells": [
  {
   "attachments": {},
   "cell_type": "markdown",
   "metadata": {},
   "source": [
    "# This Notebook is for Reinforcement Learning\n",
    "### author: Hari Shankar"
   ]
  },
  {
   "attachments": {},
   "cell_type": "markdown",
   "metadata": {},
   "source": [
    "# !apt update\n",
    "# !apt install -y xvfb x11-utils python-opengl ffmpeg swig\n",
    "# !pip install gymnasium==0.27.1 gymnasium[box2d] pyvirtualdisplay imageio-ffmpeg moviepy==1.0.3\n",
    "# !pip install onnx onnx2pytorch==0.4.1"
   ]
  },
  {
   "cell_type": "code",
   "execution_count": 1,
   "metadata": {},
   "outputs": [],
   "source": [
    "%matplotlib inline\n",
    "\n",
    "# Auxiliary Python imports\n",
    "import os\n",
    "import math\n",
    "import io\n",
    "import base64\n",
    "import random\n",
    "import shutil\n",
    "from time import time, strftime\n",
    "from glob import glob\n",
    "from tqdm import tqdm\n",
    "import numpy as np\n",
    "\n",
    "# Pytorch\n",
    "import torch\n",
    "import torch.nn as nn\n",
    "from torch.distributions.categorical import Categorical\n",
    "import onnx\n",
    "from onnx2pytorch import ConvertModel\n",
    "\n",
    "# Environment import and set logger level to display error only\n",
    "import gymnasium as gym\n",
    "from gymnasium.spaces import Box\n",
    "from gymnasium import logger as gymlogger\n",
    "from gymnasium.wrappers import RecordVideo\n",
    "gymlogger.set_level(gym.logger.ERROR)\n",
    "\n",
    "# Plotting and notebook imports\n",
    "import matplotlib.pyplot as plt\n",
    "from matplotlib import animation\n",
    "from IPython.display import HTML, clear_output\n",
    "from IPython import display\n",
    "\n",
    "\n",
    "#own imports\n",
    "import time"
   ]
  },
  {
   "attachments": {},
   "cell_type": "markdown",
   "metadata": {},
   "source": [
    "# CREATING ENVIRONEMTN \n",
    "From Gym Environment: \"LunarLander-v2\":\n",
    "\n",
    "<img src=\"https://www.gymlibrary.dev/_images/lunar_lander_continuous.gif\" alt=\"Lunar\" width=\"700\"/>\n"
   ]
  },
  {
   "cell_type": "code",
   "execution_count": 2,
   "metadata": {},
   "outputs": [],
   "source": [
    "# Creating the environment\n",
    "env = gym.make(\"LunarLander-v2\", continuous=True, gravity=-9.8)"
   ]
  },
  {
   "attachments": {},
   "cell_type": "markdown",
   "metadata": {},
   "source": [
    "## 2. Load Environment "
   ]
  },
  {
   "cell_type": "code",
   "execution_count": 13,
   "metadata": {},
   "outputs": [
    {
     "name": "stdout",
     "output_type": "stream",
     "text": [
      "Episode:1 Score:-263.0399996927181\n",
      "Episode:2 Score:-107.7605873132157\n",
      "Episode:3 Score:-202.0064663096975\n",
      "Episode:4 Score:-45.49178368370237\n",
      "Episode:5 Score:-272.9967227635651\n"
     ]
    }
   ],
   "source": [
    "episodes = 5\n",
    "\n",
    "for episode in range(1, episodes + 1):\n",
    "    state = env.reset()\n",
    "    done = False\n",
    "    score = 0\n",
    "    \n",
    "    while not done:\n",
    "        env.render()\n",
    "        time.sleep(0.1)\n",
    "        action = env.action_space.sample()\n",
    "        n_state, reward, done, info, _ = env.step(action)\n",
    "        score += reward\n",
    "    print('Episode:{} Score:{}'.format(episode, score))\n",
    "env.close()"
   ]
  },
  {
   "cell_type": "code",
   "execution_count": null,
   "metadata": {},
   "outputs": [],
   "source": [
    "episode = 50\n",
    "\n",
    "for episode in range(1,episode+1):\n",
    "    state = env.reset() # reset environment to a new, random state\n",
    "    score = 0\n",
    "    done = False\n",
    "    while not done:\n",
    "        env.render()\n",
    "        action = env.action_space.sample()\n",
    "        n_state, reward, done, info, dic= env.step(action)\n",
    "        score += reward\n",
    "    print('Episode:{} Score:{}'.format(episode,score))\n",
    "# env.close()\n"
   ]
  },
  {
   "cell_type": "code",
   "execution_count": null,
   "metadata": {},
   "outputs": [],
   "source": [
    "act=env.action_space.sample()\n",
    "print('----------')\n",
    "env.step(act)\n"
   ]
  },
  {
   "cell_type": "code",
   "execution_count": null,
   "metadata": {},
   "outputs": [],
   "source": []
  }
 ],
 "metadata": {
  "kernelspec": {
   "display_name": "rl_ue",
   "language": "python",
   "name": "python3"
  },
  "language_info": {
   "codemirror_mode": {
    "name": "ipython",
    "version": 3
   },
   "file_extension": ".py",
   "mimetype": "text/x-python",
   "name": "python",
   "nbconvert_exporter": "python",
   "pygments_lexer": "ipython3",
   "version": "3.9.16"
  },
  "orig_nbformat": 4
 },
 "nbformat": 4,
 "nbformat_minor": 2
}
